{
 "cells": [
  {
   "cell_type": "code",
   "execution_count": 1,
   "metadata": {
    "collapsed": true
   },
   "outputs": [],
   "source": [
    "from util import *"
   ]
  },
  {
   "cell_type": "code",
   "execution_count": 2,
   "metadata": {
    "collapsed": true
   },
   "outputs": [],
   "source": [
    "X_train = load_pickle('pickle/X_train.pickle')\n",
    "X_test = load_pickle('pickle/X_test.pickle')\n",
    "y_train = load_pickle('pickle/y_train.pickle')\n",
    "y_test = load_pickle('pickle/y_test.pickle')"
   ]
  },
  {
   "cell_type": "markdown",
   "metadata": {},
   "source": [
    "### Gaussian Naive Bayes"
   ]
  },
  {
   "cell_type": "code",
   "execution_count": 19,
   "metadata": {},
   "outputs": [
    {
     "name": "stdout",
     "output_type": "stream",
     "text": [
      "             precision    recall  f1-score   support\n",
      "\n",
      " Low Income       0.96      0.50      0.66      6840\n",
      "High Income       0.38      0.93      0.54      2205\n",
      "\n",
      "avg / total       0.82      0.61      0.63      9045\n",
      "\n"
     ]
    }
   ],
   "source": [
    "from sklearn.naive_bayes import GaussianNB\n",
    "from sklearn.metrics import classification_report\n",
    "\n",
    "clf_A = GaussianNB()\n",
    "clf_A.fit(X_train, y_train)\n",
    "y_predict = clf_A.predict(X_test)\n",
    "\n",
    "target_names = ['Low Income', 'High Income']\n",
    "print(classification_report(y_test, y_predict, target_names=target_names))"
   ]
  },
  {
   "cell_type": "markdown",
   "metadata": {},
   "source": [
    "### Decision Trees"
   ]
  },
  {
   "cell_type": "code",
   "execution_count": 20,
   "metadata": {},
   "outputs": [
    {
     "name": "stdout",
     "output_type": "stream",
     "text": [
      "             precision    recall  f1-score   support\n",
      "\n",
      " Low Income       0.88      0.89      0.88      6840\n",
      "High Income       0.64      0.62      0.63      2205\n",
      "\n",
      "avg / total       0.82      0.82      0.82      9045\n",
      "\n"
     ]
    }
   ],
   "source": [
    "from sklearn.tree import DecisionTreeClassifier\n",
    "from sklearn.metrics import classification_report\n",
    "\n",
    "clf_B = DecisionTreeClassifier(criterion=\"entropy\",random_state=0)\n",
    "clf_B.fit(X_train, y_train)\n",
    "y_predict = clf_B.predict(X_test)\n",
    "\n",
    "target_names = ['Low Income', 'High Income']\n",
    "print(classification_report(y_test, y_predict, target_names=target_names))"
   ]
  },
  {
   "cell_type": "markdown",
   "metadata": {},
   "source": [
    "### Support Vector Machine"
   ]
  },
  {
   "cell_type": "code",
   "execution_count": 21,
   "metadata": {},
   "outputs": [
    {
     "name": "stdout",
     "output_type": "stream",
     "text": [
      "             precision    recall  f1-score   support\n",
      "\n",
      " Low Income       0.86      0.93      0.89      6840\n",
      "High Income       0.71      0.51      0.59      2205\n",
      "\n",
      "avg / total       0.82      0.83      0.82      9045\n",
      "\n"
     ]
    }
   ],
   "source": [
    "from sklearn.svm import SVC\n",
    "from sklearn.metrics import classification_report\n",
    "\n",
    "clf_C = SVC(random_state=0)\n",
    "clf_C.fit(X_train, y_train)\n",
    "y_predict = clf_C.predict(X_test)\n",
    "\n",
    "target_names = ['Low Income', 'High Income']\n",
    "print(classification_report(y_test, y_predict, target_names=target_names))"
   ]
  },
  {
   "cell_type": "markdown",
   "metadata": {},
   "source": [
    "### K-Nearest Neighbors"
   ]
  },
  {
   "cell_type": "code",
   "execution_count": 22,
   "metadata": {},
   "outputs": [
    {
     "name": "stdout",
     "output_type": "stream",
     "text": [
      "             precision    recall  f1-score   support\n",
      "\n",
      " Low Income       0.87      0.91      0.89      6840\n",
      "High Income       0.67      0.58      0.62      2205\n",
      "\n",
      "avg / total       0.82      0.83      0.82      9045\n",
      "\n"
     ]
    }
   ],
   "source": [
    "from sklearn import neighbors\n",
    "from sklearn.metrics import classification_report\n",
    "\n",
    "n_neighbors = 7\n",
    "clf_D = neighbors.KNeighborsClassifier(n_neighbors)\n",
    "clf_D.fit(X_train, y_train)\n",
    "y_predict = clf_D.predict(X_test)\n",
    "\n",
    "target_names = ['Low Income', 'High Income']\n",
    "print(classification_report(y_test, y_predict, target_names=target_names))"
   ]
  },
  {
   "cell_type": "markdown",
   "metadata": {},
   "source": [
    "### Stochastic Gradient Descent"
   ]
  },
  {
   "cell_type": "code",
   "execution_count": 23,
   "metadata": {},
   "outputs": [
    {
     "name": "stdout",
     "output_type": "stream",
     "text": [
      "             precision    recall  f1-score   support\n",
      "\n",
      " Low Income       0.89      0.89      0.89      6840\n",
      "High Income       0.66      0.67      0.67      2205\n",
      "\n",
      "avg / total       0.84      0.84      0.84      9045\n",
      "\n"
     ]
    }
   ],
   "source": [
    "from sklearn.linear_model import SGDClassifier\n",
    "from sklearn.metrics import classification_report\n",
    "\n",
    "clf_E = SGDClassifier(loss=\"hinge\", penalty=\"l2\")\n",
    "clf_E.fit(X_train, y_train)\n",
    "y_predict = clf_E.predict(X_test)\n",
    "\n",
    "target_names = ['Low Income', 'High Income']\n",
    "print(classification_report(y_test, y_predict, target_names=target_names))"
   ]
  },
  {
   "cell_type": "markdown",
   "metadata": {},
   "source": [
    "### Logistic Regression Classifier"
   ]
  },
  {
   "cell_type": "code",
   "execution_count": 24,
   "metadata": {},
   "outputs": [
    {
     "name": "stdout",
     "output_type": "stream",
     "text": [
      "             precision    recall  f1-score   support\n",
      "\n",
      " Low Income       0.88      0.93      0.90      6840\n",
      "High Income       0.73      0.61      0.66      2205\n",
      "\n",
      "avg / total       0.84      0.85      0.84      9045\n",
      "\n"
     ]
    }
   ],
   "source": [
    "from sklearn import linear_model\n",
    "from sklearn.metrics import classification_report\n",
    "\n",
    "clf_F = linear_model.LogisticRegression(C=1e5)\n",
    "clf_F.fit(X_train, y_train)\n",
    "y_predict = clf_F.predict(X_test)\n",
    "\n",
    "target_names = ['Low Income', 'High Income']\n",
    "print(classification_report(y_test, y_predict, target_names=target_names))"
   ]
  },
  {
   "cell_type": "markdown",
   "metadata": {},
   "source": [
    "### Gradient Boosting Classifier"
   ]
  },
  {
   "cell_type": "code",
   "execution_count": 25,
   "metadata": {},
   "outputs": [
    {
     "name": "stdout",
     "output_type": "stream",
     "text": [
      "             precision    recall  f1-score   support\n",
      "\n",
      " Low Income       0.88      0.94      0.91      6840\n",
      "High Income       0.76      0.59      0.67      2205\n",
      "\n",
      "avg / total       0.85      0.86      0.85      9045\n",
      "\n"
     ]
    }
   ],
   "source": [
    "from sklearn.ensemble import GradientBoostingClassifier\n",
    "from sklearn.metrics import classification_report\n",
    "\n",
    "clf_G = GradientBoostingClassifier(n_estimators=100, learning_rate=1.0,max_depth=1, random_state=0)\n",
    "clf_G.fit(X_train, y_train)\n",
    "y_predict = clf_G.predict(X_test)\n",
    "\n",
    "target_names = ['Low Income', 'High Income']\n",
    "print(classification_report(y_test, y_predict, target_names=target_names))"
   ]
  },
  {
   "cell_type": "code",
   "execution_count": null,
   "metadata": {
    "collapsed": true
   },
   "outputs": [],
   "source": []
  }
 ],
 "metadata": {
  "kernelspec": {
   "display_name": "Python 2",
   "language": "python",
   "name": "python2"
  },
  "language_info": {
   "codemirror_mode": {
    "name": "ipython",
    "version": 2
   },
   "file_extension": ".py",
   "mimetype": "text/x-python",
   "name": "python",
   "nbconvert_exporter": "python",
   "pygments_lexer": "ipython2",
   "version": "2.7.13"
  }
 },
 "nbformat": 4,
 "nbformat_minor": 2
}
