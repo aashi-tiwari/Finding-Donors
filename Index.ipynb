{
 "cells": [
  {
   "cell_type": "markdown",
   "metadata": {},
   "source": [
    "# Predicting potential donors from US census data\n",
    "Using 1994 US Census Data <br/>\n",
    "Data Source: <cite>UCI Machine Learning Repository https://archive.ics.uci.edu/ml/datasets/Census+Income <cite>\n",
    "\n",
    "\n",
    "### Following Notebooks are part of this Project\n",
    "\n",
    "### [Data Exploration](Data Exploration.ipynb)\n",
    "\n",
    "In this notebook, we explore the data and its features.\n",
    "\n",
    "### [Data Preprocessing & Splitting](Data Preprocessing.ipynb) \n",
    "\n",
    "In this notebook we do following tasks:\n",
    "1. Transforming Skewed Continuous Features\n",
    "2. Normalizing Numerical Features\n",
    "3. One Hot Encoding\n",
    "4. Shuffle and Split Data\n",
    "\n",
    "\n",
    "### [Model Evaluations](Model Evaluations.ipynb)\n",
    "\n",
    "In this notebook we perform training and evaluations on following:\n",
    "1. Gaussian Naive Bayes\n",
    "2. Decision Trees\n",
    "3. Support Vector Machine\n",
    "4. K-Nearest Neighbors\n",
    "5. Stochastic Gradient Descent\n",
    "6. Logistic Regression Classifier\n",
    "7. Gradient Boosting Classifier\n",
    "\n",
    "### [Model Evaluations with K Fold training](Model KFold Evaluations.ipynb)\n",
    "\n",
    "In this notebook we perform training with K Fold and evaluations on following:\n",
    "1. Gaussian Naive Bayes\n",
    "2. Decision Trees\n",
    "3. Support Vector Machine\n",
    "4. K-Nearest Neighbors\n",
    "5. Stochastic Gradient Descent\n",
    "6. Logistic Regression Classifier\n",
    "7. Gradient Boosting Classifier\n",
    "\n",
    "### [Final Model Evaluation](Final Model Evaluation.ipynb)\n",
    "\n",
    "Final Evaluation of the best model - SVC\n",
    "\n",
    "### Artificial Neural Network\n",
    "\n",
    "### Deep Learning (CNN)\n"
   ]
  },
  {
   "cell_type": "code",
   "execution_count": null,
   "metadata": {
    "collapsed": true
   },
   "outputs": [],
   "source": []
  }
 ],
 "metadata": {
  "kernelspec": {
   "display_name": "Python 2",
   "language": "python",
   "name": "python2"
  },
  "language_info": {
   "codemirror_mode": {
    "name": "ipython",
    "version": 2
   },
   "file_extension": ".py",
   "mimetype": "text/x-python",
   "name": "python",
   "nbconvert_exporter": "python",
   "pygments_lexer": "ipython2",
   "version": "2.7.13"
  }
 },
 "nbformat": 4,
 "nbformat_minor": 2
}
